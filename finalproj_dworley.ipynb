{
 "cells": [
  {
   "cell_type": "markdown",
   "metadata": {},
   "source": [
    "### Declan Worley\n",
    "# Final Project - CRT Model\n",
    "\n",
    "\n"
   ]
  },
  {
   "cell_type": "markdown",
   "metadata": {},
   "source": [
    "<img src=\"files/crt.png\" height=\"100\">"
   ]
  },
  {
   "cell_type": "markdown",
   "metadata": {},
   "source": [
    "Cathode Ray Tubes (CRTs) are vacuum tubes that produce images by use of electron beams and a phospherescent screen. This is done by manipulation of the electron beams so that it strikes certain spots on the screen creating luminous spots. \n",
    "\n",
    "The source of the electron beams is the electron gun, which contains the hater, cathode, control grid, and anodes. The cathode is cylindrical and contains a layer of strontium and barium oxide which emits the electrons at the end of the tube. These electrons pass through the control grid and continue to pass through the anodes which help focus the beams.\n",
    "\n",
    "Electrons eventually reach the deflecting plates which send the electron into certain areas of the fluorescent screen, which is used to create an image on the screen."
   ]
  },
  {
   "cell_type": "markdown",
   "metadata": {},
   "source": [
    "## Implementation"
   ]
  },
  {
   "cell_type": "markdown",
   "metadata": {},
   "source": [
    "In our code, we will be modeling the manipulation of the electrons using the deflection plates.\n",
    "\n",
    "The program will contain a target and let players try to hit the target with the electron by adjusting the magnetic field of the deflection plates.\n",
    "\n",
    "To do this, we will first need to setup some vertical and horizon plates with a certain B for the magnetic fields, and an electron with a velocity, mass, and charge.\n"
   ]
  },
  {
   "cell_type": "markdown",
   "metadata": {},
   "source": [
    "### Imports "
   ]
  },
  {
   "cell_type": "code",
   "execution_count": null,
   "metadata": {},
   "outputs": [],
   "source": [
    "# Importing\n",
    "from vpython import *\n",
    "import math\n",
    "import random\n"
   ]
  },
  {
   "cell_type": "markdown",
   "metadata": {},
   "source": [
    "### Objects\n",
    "These are mainly objects used as targets in our program for purely visuals. They can be substituted for any simple object in VPython."
   ]
  },
  {
   "cell_type": "code",
   "execution_count": 6,
   "metadata": {},
   "outputs": [],
   "source": [
    "# Target object\n",
    "def Target(pos=vec(0,0,0), color=vec(1,0,0)):\n",
    "    #bound=sphere(pos=pos+vec(0,1,0),opacity=1/3, radius=5/4)\n",
    "    body=cylinder(color=color,pos=pos, axis=vec(0,1,0), length=3/2)\n",
    "    head=sphere(color=color,pos=body.pos+body.axis)\n",
    "    eye=ellipsoid(color=vec(0,1,1), pos=head.pos+vec(0,0,1), width=1/4, height=1/3, length=1)\n",
    "    lleg=ellipsoid(color=color, pos=body.pos+vec(-1/2,0,0), height=2, width=2/3, length=2/3)\n",
    "    rleg=ellipsoid(color=color, pos=body.pos+vec(1/2,0,0), height=2, width=2/3, length=2/3)\n",
    "    backpack=ellipsoid(color=color, pos=body.pos+body.axis/2+vec(0,0,-3/4), length=3/2, height=3/2, width=1)\n",
    "    target=compound([body,head,eye,lleg,rleg,backpack], radius=5/4, c=color)\n",
    "\n",
    "    return target\n",
    "\n",
    "# Target Object (When its hit)\n",
    "def Dead(pos=vec(0,0,0), color=vec(1,0,0)):\n",
    "    body=cylinder(color=color,pos=pos+vec(0,-3/2,0), axis=vec(0,1,0), length=1)\n",
    "    bbone=cylinder(color=vec(1,1,1),pos=body.pos+vec(0,2/3,0), axis=vec(0,1,0), radius=1/3)\n",
    "    lbone=sphere(color=vec(1,1,1),pos=bbone.pos+bbone.axis+vec(-bbone.radius/2,0,0), axis=vec(0,1,0), radius=bbone.radius)\n",
    "    rbone=sphere(color=vec(1,1,1),pos=bbone.pos+bbone.axis+vec(bbone.radius/2,0,0), axis=vec(0,1,0), radius=bbone.radius)\n",
    "    lleg=ellipsoid(color=color, pos=body.pos+vec(-1/2,0,0), height=2, width=2/3, length=2/3)\n",
    "    rleg=ellipsoid(color=color, pos=body.pos+vec(1/2,0,0), height=2, width=2/3, length=2/3)\n",
    "    backpack=ellipsoid(color=color, pos=body.pos+body.axis/2+vec(0,0,-3/4), length=3/2, height=3/2, width=1)\n",
    "    dead=compound([body,bbone,lbone,rbone,lleg,rleg,backpack], c=color)\n",
    "    dead.axis=vec(0,1,0)\n",
    "\n",
    "    return dead\n",
    "\n",
    "# Knife (knife mode)\n",
    "def Knife(pos=vec(0,0,0)):\n",
    "    #bound=sphere(pos=pos, radius=0.2,opacity=1/3)\n",
    "    handle =ellipsoid(color=vec(0,0,0),axis=vec(0,0,-1),pos=pos, length=2, width=1/2, height=2/3)\n",
    "    guard = ellipsoid(color=vec(0,0,0),axis=vec(0,0,-1),pos=handle.pos+handle.axis/2, length=2/3, width=2/3, height=2)\n",
    "    blade = ellipsoid(color=vec(1,1,1),axis=vec(0,0,-1), pos=handle.pos+handle.axis, length=3, width=1/4, height=1)\n",
    "    knife=compound([handle, guard, blade], radius=5*2/3, q=1.6e-19)\n",
    "\n",
    "    return knife\n",
    "\n"
   ]
  },
  {
   "cell_type": "markdown",
   "metadata": {},
   "source": [
    "### Model\n",
    "This is the main body of the code.\n",
    "\n",
    "First we create the canvas for VPython, and then the objects like the target, plates, and electron, and a backdrop.\n",
    "\n",
    "Next, we have our constants starting on line 30, that contains like all f our information about our electron, magnetic field magnitude, etc.\n",
    "\n",
    "We then set up our magnetic fields from our plates, using a relation of between the power of magnetic field of each set of plates. We also create arrows here to visualize how big the magnetic field is from each plate.\n",
    "\n",
    "After that, we create our loop in which we move our target, get keyboard input, calculate the force, momentum, velocity, and update the position, and also the collisions.\n"
   ]
  },
  {
   "cell_type": "markdown",
   "metadata": {},
   "source": [
    "### Calculations\n",
    "\n",
    "To move our electron we need a few calculations, which are used after line 112\n",
    "\n",
    "\n",
    "Calculate initial momentum:\n",
    "\n",
    "$\\vec{p} = \\dfrac{\\vec{v}}{m}$\n",
    "\n",
    "Calculate the magnetic force:\n",
    "\n",
    "$\\vec{F}_{mag} = q * ( \\vec{B} \\times \\vec{v})$\n",
    "\n",
    "Calculating new momentum:\n",
    "\n",
    "$\\vec{p}_{f} = \\vec{p}_{i} + \\vec{F}_{mag} * dt$\n",
    "\n",
    "Calculating velocity from momentum\n",
    "\n",
    "$\\vec{v} = \\dfrac{\\vec{p}}{m}$\n",
    "\n",
    "Updating the position:\n",
    "\n",
    "$\\vec{r}_{f} = \\vec{r}_{i} + \\vec{v} * dt$\n",
    "\n"
   ]
  },
  {
   "cell_type": "code",
   "execution_count": null,
   "metadata": {},
   "outputs": [
    {
     "data": {
      "text/html": [
       "<div id=\"glowscript\" class=\"glowscript\"></div>"
      ],
      "text/plain": [
       "<IPython.core.display.HTML object>"
      ]
     },
     "metadata": {},
     "output_type": "display_data"
    },
    {
     "data": {
      "application/javascript": [
       "if (typeof Jupyter !== \"undefined\") { window.__context = { glowscript_container: $(\"#glowscript\").removeAttr(\"id\")};}else{ element.textContent = ' ';}"
      ],
      "text/plain": [
       "<IPython.core.display.Javascript object>"
      ]
     },
     "metadata": {},
     "output_type": "display_data"
    }
   ],
   "source": [
    "# Scene\n",
    "scene = canvas(background=vec(0, 30, 10)/255, autoscale=False)\n",
    "\n",
    "# Making target\n",
    "b=Target(vec(0,0,-39), color=vec(1,1,0))\n",
    "\n",
    "# Setting up the plates\n",
    "topplate=box(pos=vec(0,10,0), width=10, length=10, height=1/16, axis=vec(1,0,0))\n",
    "botplate=box(pos=vec(0,-10,0), width=10, length=10, height=1/16, axis=vec(1,0,0))\n",
    "vertplates=compound([topplate,botplate])\n",
    "leftplate=box(pos=vec(-10,0,0), width=10, length=10, height=1/16, axis=vec(0,1,0))\n",
    "rightplate=box(pos=vec(10,0,0), width=10, length=10, height=1/16, axis=vec(0,1,0))\n",
    "horzplates=compound([leftplate,rightplate])\n",
    "\n",
    "#Making the electron\n",
    "KNIFE = False\n",
    "if(KNIFE == True):\n",
    "    e=Knife(vec(0,0,topplate.width/1.5))\n",
    "else:\n",
    "    e=sphere(pos=vec(0,0,0), radius=0.5, color=color.blue )\n",
    "\n",
    "# Backdrop\n",
    "screen=box(pos=vec(0,0,-40), color=vec(0.2,0.2,0.2), height=40, width=40,length=1/16, axis=vec(0,0,1))\n",
    "\n",
    "# Moving Camera\n",
    "scene.camera.pos=e.pos+vec(0,0,15)\n",
    "scene.camera.range=1\n",
    "# scene.camera.forward=20\n",
    "\n",
    "# Constants\n",
    "emass = 1\n",
    "q = 1\n",
    "evel = vec(0,0,0)\n",
    "theta = random.random() * 2 * math.pi\n",
    "bvel = vec(math.cos(theta), math.sin(theta),0) * 3\n",
    "vel = 10\n",
    "fired = False\n",
    "BMAX = emass*vel*screen.width/(2*q*(topplate.length)*abs(screen.pos.z)) # Scaling based on velocity given to electron, so that it is bounded in the backdrop\n",
    "TP = 0.5\n",
    "LP = 0.5\n",
    "\n",
    "# Setting up Magnetic fields\n",
    "BTOP = vec(0,-1,0)*TP*BMAX\n",
    "BBOT = vec(0,1,0)*(1-TP)*BMAX\n",
    "BLEFT = vec(1,0,0)*LP*BMAX\n",
    "BRIGHT = vec(-1,0,0)*(1-TP)*BMAX\n",
    "# Visuals for magnetic fields\n",
    "tarrow=arrow(pos=topplate.pos, axis=(BTOP/BMAX)*10, color=vec(1,0,1),opacity=0.5)\n",
    "barrow=arrow(pos=botplate.pos, axis=(BBOT/BMAX)*10, color=vec(1,0,1),opacity=0.5)\n",
    "larrow=arrow(pos=leftplate.pos, axis=(BLEFT/BMAX)*10, color=vec(1,0,1),opacity=0.5)\n",
    "rarrow=arrow(pos=rightplate.pos, axis=(BRIGHT/BMAX)*10, color=vec(1,0,1),opacity=0.5)\n",
    "\n",
    "\n",
    "INC = 0.01\n",
    "#Loop\n",
    "dt = 1e-2 # Time interval\n",
    "while True:\n",
    "    rate(1/dt)\n",
    "\n",
    "    #Moving target\n",
    "    b.pos += bvel *dt\n",
    "    if abs(b.pos.y) >= screen.height/2:\n",
    "        bvel.y = -bvel.y\n",
    "    if abs(b.pos.x) >= screen.width/2:\n",
    "        bvel.x = -bvel.x\n",
    "\n",
    "    #Resetting electron\n",
    "    if(e.pos.z < screen.pos.z or abs(e.pos.y) > screen.height/2 or abs(e.pos.x) > screen.width/2):\n",
    "        e.pos = vec(0,0,topplate.width/1.5)\n",
    "        evel = vec(0,0,0)\n",
    "        fired=False\n",
    "        \n",
    "\n",
    "    #Keyboard inputs\n",
    "    k = keysdown() # a list of keys that are down\n",
    "    if 'left' in k:\n",
    "        if LP > 0:\n",
    "            LP -= INC\n",
    "            # print(LP)\n",
    "    if 'right' in k:\n",
    "        if LP < 1:\n",
    "            LP += INC\n",
    "            # print(LP)\n",
    "    if 'down' in k:\n",
    "        if TP < 1:\n",
    "            TP += INC\n",
    "            # print(TP)\n",
    "    if 'up' in k:\n",
    "        if TP > 0:\n",
    "            TP -= INC\n",
    "            # print(TP)\n",
    "    if ' ' in k and not fired:\n",
    "        # print(\"Fire\")\n",
    "        fired = True\n",
    "        evel = vec(0,0,-1)*vel\n",
    "\n",
    "\n",
    "    ep = evel*emass#electron momentum\n",
    "\n",
    "    #Magnetic fields\n",
    "    BTOP = vec(0,-1,0)*TP*BMAX\n",
    "    BBOT = vec(0,1,0)*(1-TP)*BMAX\n",
    "    BLEFT = vec(1,0,0)*LP*BMAX\n",
    "    BRIGHT = vec(-1,0,0)*(1-LP)*BMAX\n",
    "    tarrow.axis=(BTOP/BMAX)*10\n",
    "    barrow.axis=(BBOT/BMAX)*10\n",
    "    larrow.axis=(BLEFT/BMAX)*10\n",
    "    rarrow.axis=(BRIGHT/BMAX)*10\n",
    "\n",
    "    #Total Magnetic field\n",
    "    BNET = BTOP+BBOT+BLEFT+BRIGHT\n",
    "\n",
    "    # Magnetic force on electron\n",
    "    FMag = vec(0,0,0) # If outside plates force = 0\n",
    "    if abs(topplate.pos.z-e.pos.z) < (topplate.width/2): # If inside plates then force\n",
    "        FMag = q*cross(evel, BNET)\n",
    "\n",
    "    #Updating electron pos\n",
    "    ep = ep+FMag*dt #calculating momentum\n",
    "    evel = ep/emass #calculating velocity\n",
    "    e.pos += evel*dt #position\n",
    "\n",
    "    #Collisions with target\n",
    "    if mag((e.pos+vec(0,0,-e.radius)-b.pos))<b.radius*2/3:\n",
    "        b.visible=False\n",
    "        a=b\n",
    "        b=Dead(b.pos, b.c)\n",
    "        del a\n",
    "        break\n",
    "    #print(e.pos)\n"
   ]
  },
  {
   "cell_type": "markdown",
   "metadata": {},
   "source": [
    "## Future Plans\n",
    "This model can be taken and improved in a lot of ways such as:\n",
    "1. Scale values down to an actual electron (It was scaled up to work easier with VPython)\n",
    "\n",
    "2. A scan system could be added in to further show how CRT monitors work\n",
    "\n",
    "3. To continue with the game concept, you could add in more targets, change the movement of them, and even add in a Fmag vector to help visualize where the electron would go as a result of the plates since it can be confusing without knowing the right hand rule.\n",
    "\n",
    "\n",
    "I think, given the time, a great improvement to this model would be to add in scanning, and display an image on the screen in the back as CRT TVs are able to.\n"
   ]
  },
  {
   "cell_type": "markdown",
   "metadata": {},
   "source": [
    "## References\n",
    "https://circuitglobe.com/cathode-ray-tube-crt.html\n",
    "\n",
    "https://computer.howstuffworks.com/monitor7.htm\n",
    "\n",
    "https://nationalmaglab.org/education/magnet-academy/watch-play/interactive/electromagnetic-deflection-in-a-cathode-ray-tube-ii"
   ]
  },
  {
   "cell_type": "code",
   "execution_count": null,
   "metadata": {},
   "outputs": [],
   "source": []
  }
 ],
 "metadata": {
  "kernelspec": {
   "display_name": "Python 3",
   "language": "python",
   "name": "python3"
  }
 },
 "nbformat": 4,
 "nbformat_minor": 4
}
