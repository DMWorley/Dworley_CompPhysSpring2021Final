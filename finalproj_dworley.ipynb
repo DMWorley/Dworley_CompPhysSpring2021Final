{
 "cells": [
  {
   "cell_type": "markdown",
   "metadata": {},
   "source": [
    "<b>Declan Worley</b>\n",
    "\n",
    "<b>April 4, 2021</b>\n",
    "# Final Project - CRT Model\n",
    "\n",
    "\n"
   ]
  },
  {
   "cell_type": "markdown",
   "metadata": {},
   "source": [
    "<img src=\"files/crt.png\" height=\"100\">"
   ]
  },
  {
   "cell_type": "markdown",
   "metadata": {},
   "source": [
    "Cathode Ray Tubes (CRTs) are vacuum tubes that produce images by use of electron beams and a phospherescent screen. This is done by manipulation of the electron beams so that it strikes certain spots on the screen creating luminous spots. \n",
    "\n",
    "The source of the electron beams is the electron gun, which contains the hater, cathode, control grid, and anodes. The cathode is cylindrical and contains a layer of strontium and barium oxide which emits the electrons at the end of the tube. These electrons pass through the control grid and continue to pass through the anodes which help focus the beams.\n",
    "\n",
    "Electrons eventually reach the deflecting coils which send the electron into certain areas of the fluorescent screen, which is used to create an image on the screen.\n",
    "\n",
    "Many smaller CRTs use electrostatic deflection for this part, which uses electric fields from plates. Bigger, and more commonly, CRTs use electromagnetic deflection which uses the magnetic fields from coils to shift the electron beam. We will be using electromagnetic deflection for this.\n",
    "\n",
    "I recommend checking out the interactive illustration on <a href=\"https://nationalmaglab.org/education/magnet-academy/watch-play/interactive/electromagnetic-deflection-in-a-cathode-ray-tube-ii\">National Mag Lab</a> to see how electromagnetic deflection works."
   ]
  },
  {
   "cell_type": "markdown",
   "metadata": {},
   "source": [
    "## Implementation"
   ]
  },
  {
   "cell_type": "markdown",
   "metadata": {},
   "source": [
    "In our code, we will be modeling the manipulation of the electrons using electromagnetic deflection from coils.\n",
    "\n",
    "The program will contain a target and let players try to hit the target with the electron by adjusting the magnetic field of the deflection coils.\n",
    "\n",
    "To do this, we will first need to setup some vertical and horizon coils with a certain B for the magnetic fields, and an electron with a velocity, mass, and charge.\n"
   ]
  },
  {
   "cell_type": "markdown",
   "metadata": {},
   "source": [
    "### Imports "
   ]
  },
  {
   "cell_type": "code",
   "execution_count": 2,
   "metadata": {},
   "outputs": [
    {
     "data": {
      "text/html": [
       "<div id=\"glowscript\" class=\"glowscript\"></div>"
      ],
      "text/plain": [
       "<IPython.core.display.HTML object>"
      ]
     },
     "metadata": {},
     "output_type": "display_data"
    },
    {
     "data": {
      "application/javascript": [
       "if (typeof Jupyter !== \"undefined\") { window.__context = { glowscript_container: $(\"#glowscript\").removeAttr(\"id\")};}else{ element.textContent = ' ';}"
      ],
      "text/plain": [
       "<IPython.core.display.Javascript object>"
      ]
     },
     "metadata": {},
     "output_type": "display_data"
    }
   ],
   "source": [
    "# Importing\n",
    "from vpython import *\n",
    "import math\n",
    "import random\n"
   ]
  },
  {
   "cell_type": "markdown",
   "metadata": {},
   "source": [
    "### Objects\n",
    "These are mainly objects used as targets in our program for purely visuals. They can be substituted for any simple object in VPython."
   ]
  },
  {
   "cell_type": "code",
   "execution_count": 4,
   "metadata": {},
   "outputs": [],
   "source": [
    "\n",
    "# Target object\n",
    "def Target(pos=vec(0,0,0), color=vec(1,0,0)):\n",
    "    #bound=sphere(pos=pos+vec(0,1,0),opacity=1/3, radius=5/4)\n",
    "    body=cylinder(color=color,pos=pos, axis=vec(0,1,0), length=3/2)\n",
    "    head=sphere(color=color,pos=body.pos+body.axis)\n",
    "    eye=ellipsoid(color=vec(0,1,1), pos=head.pos+vec(0,0,1), width=1/4, height=1/3, length=1)\n",
    "    lleg=ellipsoid(color=color, pos=body.pos+vec(-1/2,0,0), height=2, width=2/3, length=2/3)\n",
    "    rleg=ellipsoid(color=color, pos=body.pos+vec(1/2,0,0), height=2, width=2/3, length=2/3)\n",
    "    backpack=ellipsoid(color=color, pos=body.pos+body.axis/2+vec(0,0,-3/4), length=3/2, height=3/2, width=1)\n",
    "    target=compound([body,head,eye,lleg,rleg,backpack], radius=5/4, c=color)\n",
    "\n",
    "    return target\n",
    "\n",
    "# Target Object (When its hit)\n",
    "def Dead(pos=vec(0,0,0), color=vec(1,0,0)):\n",
    "    body=cylinder(color=color,pos=pos+vec(0,-3/2,0), axis=vec(0,1,0), length=1)\n",
    "    bbone=cylinder(color=vec(1,1,1),pos=body.pos+vec(0,2/3,0), axis=vec(0,1,0), radius=1/3)\n",
    "    lbone=sphere(color=vec(1,1,1),pos=bbone.pos+bbone.axis+vec(-bbone.radius/2,0,0), axis=vec(0,1,0), radius=bbone.radius)\n",
    "    rbone=sphere(color=vec(1,1,1),pos=bbone.pos+bbone.axis+vec(bbone.radius/2,0,0), axis=vec(0,1,0), radius=bbone.radius)\n",
    "    lleg=ellipsoid(color=color, pos=body.pos+vec(-1/2,0,0), height=2, width=2/3, length=2/3)\n",
    "    rleg=ellipsoid(color=color, pos=body.pos+vec(1/2,0,0), height=2, width=2/3, length=2/3)\n",
    "    backpack=ellipsoid(color=color, pos=body.pos+body.axis/2+vec(0,0,-3/4), length=3/2, height=3/2, width=1)\n",
    "    dead=compound([body,bbone,lbone,rbone,lleg,rleg,backpack], c=color)\n",
    "    dead.axis=vec(0,1,0)\n",
    "\n",
    "    return dead\n",
    "\n",
    "# Knife (knife mode)\n",
    "def Knife(pos=vec(0,0,0)):\n",
    "    #bound=sphere(pos=pos, radius=0.2,opacity=1/3)\n",
    "    handle =ellipsoid(color=vec(0,0,0),axis=vec(0,0,-1),pos=pos, length=2, width=1/2, height=2/3)\n",
    "    guard = ellipsoid(color=vec(0,0,0),axis=vec(0,0,-1),pos=handle.pos+handle.axis/2, length=2/3, width=2/3, height=2)\n",
    "    blade = ellipsoid(color=vec(1,1,1),axis=vec(0,0,-1), pos=handle.pos+handle.axis, length=3, width=1/4, height=1)\n",
    "    knife=compound([handle, guard, blade], radius=5*2/3, q=1.6e-19)\n",
    "\n",
    "    return knife\n",
    "\n"
   ]
  },
  {
   "cell_type": "markdown",
   "metadata": {},
   "source": [
    "### Model\n",
    "This is the main body of the code.\n",
    "\n",
    "First we create the canvas for VPython, and then the objects like the target, coils, and electron, and a backdrop.\n",
    "\n",
    "Next, we have our constants starting on line 30, that contains like all f our information about our electron, magnetic field magnitude, etc.\n",
    "\n",
    "We then set up our magnetic fields from our coils, using a relation of between the power of magnetic field of each set of coils. We also create arrows here to visualize how big the magnetic field is from each coil.\n",
    "\n",
    "After that, we create our loop in which we move our target, get keyboard input, calculate the force, momentum, velocity, and update the position, and also the collisions.\n",
    "\n",
    "<b>Keyboard Inputs</b>\n",
    "\n",
    "Arrow keys: Shift the magnetic fields of the coils\n",
    "\n",
    "Space: Fire the electron\n",
    "<hr></hr>\n"
   ]
  },
  {
   "cell_type": "markdown",
   "metadata": {},
   "source": [
    "### Calculations\n",
    "\n",
    "To move our electron we need a few calculations, which are used after line 112\n",
    "\n",
    "\n",
    "Calculate initial momentum:\n",
    "\n",
    "$\\vec{p} = \\dfrac{\\vec{v}}{m}$\n",
    "\n",
    "Calculate the magnetic force:\n",
    "\n",
    "$\\vec{F}_{mag} = q * ( \\vec{B} \\times \\vec{v})$\n",
    "\n",
    "Calculating new momentum:\n",
    "\n",
    "$\\vec{p}_{f} = \\vec{p}_{i} + \\vec{F}_{mag} * dt$\n",
    "\n",
    "Calculating velocity from momentum\n",
    "\n",
    "$\\vec{v} = \\dfrac{\\vec{p}}{m}$\n",
    "\n",
    "Updating the position:\n",
    "\n",
    "$\\vec{r}_{f} = \\vec{r}_{i} + \\vec{v} * dt$\n",
    "\n",
    "<hr></hr>"
   ]
  },
  {
   "cell_type": "code",
   "execution_count": 5,
   "metadata": {},
   "outputs": [
    {
     "data": {
      "text/html": [
       "<div id=\"glowscript\" class=\"glowscript\"></div>"
      ],
      "text/plain": [
       "<IPython.core.display.HTML object>"
      ]
     },
     "metadata": {},
     "output_type": "display_data"
    },
    {
     "data": {
      "application/javascript": [
       "if (typeof Jupyter !== \"undefined\") { window.__context = { glowscript_container: $(\"#glowscript\").removeAttr(\"id\")};}else{ element.textContent = ' ';}"
      ],
      "text/plain": [
       "<IPython.core.display.Javascript object>"
      ]
     },
     "metadata": {},
     "output_type": "display_data"
    },
    {
     "data": {
      "application/javascript": [
       "if (typeof Jupyter !== \"undefined\") {require.undef(\"nbextensions/vpython_libraries/glow.min\");}else{element.textContent = ' ';}"
      ],
      "text/plain": [
       "<IPython.core.display.Javascript object>"
      ]
     },
     "metadata": {},
     "output_type": "display_data"
    },
    {
     "data": {
      "application/javascript": [
       "if (typeof Jupyter !== \"undefined\") {require.undef(\"nbextensions/vpython_libraries/glowcomm\");}else{element.textContent = ' ';}"
      ],
      "text/plain": [
       "<IPython.core.display.Javascript object>"
      ]
     },
     "metadata": {},
     "output_type": "display_data"
    },
    {
     "data": {
      "application/javascript": [
       "if (typeof Jupyter !== \"undefined\") {require.undef(\"nbextensions/vpython_libraries/jquery-ui.custom.min\");}else{element.textContent = ' ';}"
      ],
      "text/plain": [
       "<IPython.core.display.Javascript object>"
      ]
     },
     "metadata": {},
     "output_type": "display_data"
    },
    {
     "data": {
      "application/javascript": [
       "if (typeof Jupyter !== \"undefined\") {require([\"nbextensions/vpython_libraries/glow.min\"], function(){console.log(\"GLOW LOADED\");});}else{element.textContent = ' ';}"
      ],
      "text/plain": [
       "<IPython.core.display.Javascript object>"
      ]
     },
     "metadata": {},
     "output_type": "display_data"
    },
    {
     "data": {
      "application/javascript": [
       "if (typeof Jupyter !== \"undefined\") {require([\"nbextensions/vpython_libraries/glowcomm\"], function(){console.log(\"GLOWCOMM LOADED\");});}else{element.textContent = ' ';}"
      ],
      "text/plain": [
       "<IPython.core.display.Javascript object>"
      ]
     },
     "metadata": {},
     "output_type": "display_data"
    },
    {
     "data": {
      "application/javascript": [
       "if (typeof Jupyter !== \"undefined\") {require([\"nbextensions/vpython_libraries/jquery-ui.custom.min\"], function(){console.log(\"JQUERY LOADED\");});}else{element.textContent = ' ';}"
      ],
      "text/plain": [
       "<IPython.core.display.Javascript object>"
      ]
     },
     "metadata": {},
     "output_type": "display_data"
    },
    {
     "ename": "KeyboardInterrupt",
     "evalue": "",
     "output_type": "error",
     "traceback": [
      "\u001b[1;31m---------------------------------------------------------------------------\u001b[0m",
      "\u001b[1;31mKeyboardInterrupt\u001b[0m                         Traceback (most recent call last)",
      "\u001b[1;32m<ipython-input-5-62f911cf193b>\u001b[0m in \u001b[0;36m<module>\u001b[1;34m\u001b[0m\n\u001b[0;32m     56\u001b[0m \u001b[0mdt\u001b[0m \u001b[1;33m=\u001b[0m \u001b[1;36m1e-2\u001b[0m \u001b[1;31m# Time interval\u001b[0m\u001b[1;33m\u001b[0m\u001b[1;33m\u001b[0m\u001b[0m\n\u001b[0;32m     57\u001b[0m \u001b[1;32mwhile\u001b[0m \u001b[1;32mTrue\u001b[0m\u001b[1;33m:\u001b[0m\u001b[1;33m\u001b[0m\u001b[1;33m\u001b[0m\u001b[0m\n\u001b[1;32m---> 58\u001b[1;33m     \u001b[0mrate\u001b[0m\u001b[1;33m(\u001b[0m\u001b[1;36m1\u001b[0m\u001b[1;33m/\u001b[0m\u001b[0mdt\u001b[0m\u001b[1;33m)\u001b[0m\u001b[1;33m\u001b[0m\u001b[1;33m\u001b[0m\u001b[0m\n\u001b[0m\u001b[0;32m     59\u001b[0m \u001b[1;33m\u001b[0m\u001b[0m\n\u001b[0;32m     60\u001b[0m     \u001b[1;31m#Moving target\u001b[0m\u001b[1;33m\u001b[0m\u001b[1;33m\u001b[0m\u001b[1;33m\u001b[0m\u001b[0m\n",
      "\u001b[1;32mc:\\users\\yvng dek\\appdata\\local\\programs\\python\\python38-32\\lib\\site-packages\\vpython\\rate_control.py\u001b[0m in \u001b[0;36m__call__\u001b[1;34m(self, N)\u001b[0m\n\u001b[0;32m    264\u001b[0m         \u001b[0mself\u001b[0m\u001b[1;33m.\u001b[0m\u001b[0mrval\u001b[0m \u001b[1;33m=\u001b[0m \u001b[0mN\u001b[0m\u001b[1;33m\u001b[0m\u001b[1;33m\u001b[0m\u001b[0m\n\u001b[0;32m    265\u001b[0m         \u001b[1;32mif\u001b[0m \u001b[0mself\u001b[0m\u001b[1;33m.\u001b[0m\u001b[0mrval\u001b[0m \u001b[1;33m<\u001b[0m \u001b[1;36m1\u001b[0m\u001b[1;33m:\u001b[0m \u001b[1;32mraise\u001b[0m \u001b[0mValueError\u001b[0m\u001b[1;33m(\u001b[0m\u001b[1;34m\"rate value must be greater than or equal to 1\"\u001b[0m\u001b[1;33m)\u001b[0m\u001b[1;33m\u001b[0m\u001b[1;33m\u001b[0m\u001b[0m\n\u001b[1;32m--> 266\u001b[1;33m         \u001b[0msuper\u001b[0m\u001b[1;33m(\u001b[0m\u001b[0m_RateKeeper2\u001b[0m\u001b[1;33m,\u001b[0m \u001b[0mself\u001b[0m\u001b[1;33m)\u001b[0m\u001b[1;33m.\u001b[0m\u001b[0m__call__\u001b[0m\u001b[1;33m(\u001b[0m\u001b[0mself\u001b[0m\u001b[1;33m.\u001b[0m\u001b[0mrval\u001b[0m\u001b[1;33m)\u001b[0m \u001b[1;31m## calls __call__ in rate_control.py\u001b[0m\u001b[1;33m\u001b[0m\u001b[1;33m\u001b[0m\u001b[0m\n\u001b[0m\u001b[0;32m    267\u001b[0m \u001b[1;33m\u001b[0m\u001b[0m\n\u001b[0;32m    268\u001b[0m \u001b[1;33m\u001b[0m\u001b[0m\n",
      "\u001b[1;32mc:\\users\\yvng dek\\appdata\\local\\programs\\python\\python38-32\\lib\\site-packages\\vpython\\rate_control.py\u001b[0m in \u001b[0;36m__call__\u001b[1;34m(self, maxRate)\u001b[0m\n\u001b[0;32m    208\u001b[0m             \u001b[1;32mwhile\u001b[0m \u001b[1;32mTrue\u001b[0m\u001b[1;33m:\u001b[0m\u001b[1;33m\u001b[0m\u001b[1;33m\u001b[0m\u001b[0m\n\u001b[0;32m    209\u001b[0m                 \u001b[0mrenders\u001b[0m \u001b[1;33m+=\u001b[0m \u001b[1;36m1\u001b[0m\u001b[1;33m\u001b[0m\u001b[1;33m\u001b[0m\u001b[0m\n\u001b[1;32m--> 210\u001b[1;33m                 \u001b[0mself\u001b[0m\u001b[1;33m.\u001b[0m\u001b[0mcallInteract\u001b[0m\u001b[1;33m(\u001b[0m\u001b[1;33m)\u001b[0m\u001b[1;33m\u001b[0m\u001b[1;33m\u001b[0m\u001b[0m\n\u001b[0m\u001b[0;32m    211\u001b[0m                 \u001b[0mself\u001b[0m\u001b[1;33m.\u001b[0m\u001b[0mrenderIndex\u001b[0m \u001b[1;33m+=\u001b[0m \u001b[1;36m1\u001b[0m\u001b[1;33m\u001b[0m\u001b[1;33m\u001b[0m\u001b[0m\n\u001b[0;32m    212\u001b[0m                 \u001b[1;32mif\u001b[0m \u001b[0mself\u001b[0m\u001b[1;33m.\u001b[0m\u001b[0mwhenToRender\u001b[0m\u001b[1;33m[\u001b[0m\u001b[0mself\u001b[0m\u001b[1;33m.\u001b[0m\u001b[0mrenderIndex\u001b[0m\u001b[1;33m]\u001b[0m \u001b[1;33m==\u001b[0m \u001b[0mself\u001b[0m\u001b[1;33m.\u001b[0m\u001b[0mrateCount\u001b[0m\u001b[1;33m:\u001b[0m\u001b[1;33m\u001b[0m\u001b[1;33m\u001b[0m\u001b[0m\n",
      "\u001b[1;32mc:\\users\\yvng dek\\appdata\\local\\programs\\python\\python38-32\\lib\\site-packages\\vpython\\rate_control.py\u001b[0m in \u001b[0;36mcallInteract\u001b[1;34m(self)\u001b[0m\n\u001b[0;32m    109\u001b[0m     \u001b[1;32mdef\u001b[0m \u001b[0mcallInteract\u001b[0m\u001b[1;33m(\u001b[0m\u001b[0mself\u001b[0m\u001b[1;33m)\u001b[0m\u001b[1;33m:\u001b[0m\u001b[1;33m\u001b[0m\u001b[1;33m\u001b[0m\u001b[0m\n\u001b[0;32m    110\u001b[0m         \u001b[0mt\u001b[0m \u001b[1;33m=\u001b[0m \u001b[0m_clock\u001b[0m\u001b[1;33m(\u001b[0m\u001b[1;33m)\u001b[0m\u001b[1;33m\u001b[0m\u001b[1;33m\u001b[0m\u001b[0m\n\u001b[1;32m--> 111\u001b[1;33m         \u001b[0mself\u001b[0m\u001b[1;33m.\u001b[0m\u001b[0minteractFunc\u001b[0m\u001b[1;33m(\u001b[0m\u001b[1;33m)\u001b[0m\u001b[1;33m\u001b[0m\u001b[1;33m\u001b[0m\u001b[0m\n\u001b[0m\u001b[0;32m    112\u001b[0m         \u001b[0mdt\u001b[0m \u001b[1;33m=\u001b[0m \u001b[0m_clock\u001b[0m\u001b[1;33m(\u001b[0m\u001b[1;33m)\u001b[0m \u001b[1;33m-\u001b[0m \u001b[0mt\u001b[0m\u001b[1;33m\u001b[0m\u001b[1;33m\u001b[0m\u001b[0m\n\u001b[0;32m    113\u001b[0m         \u001b[1;32mif\u001b[0m \u001b[0mself\u001b[0m\u001b[1;33m.\u001b[0m\u001b[0mcount\u001b[0m \u001b[1;33m==\u001b[0m \u001b[1;36m1\u001b[0m\u001b[1;33m:\u001b[0m \u001b[0mself\u001b[0m\u001b[1;33m.\u001b[0m\u001b[0mrenderTime\u001b[0m \u001b[1;33m=\u001b[0m \u001b[1;36m0.005\u001b[0m \u001b[1;31m# first value is abnormal; make small nonzero\u001b[0m\u001b[1;33m\u001b[0m\u001b[1;33m\u001b[0m\u001b[0m\n",
      "\u001b[1;32mc:\\users\\yvng dek\\appdata\\local\\programs\\python\\python38-32\\lib\\site-packages\\vpython\\rate_control.py\u001b[0m in \u001b[0;36msendtofrontend\u001b[1;34m(self)\u001b[0m\n\u001b[0;32m    259\u001b[0m                     \u001b[1;31m# Must send events one at a time to GW.handle_msg because bound events need the loop code:\u001b[0m\u001b[1;33m\u001b[0m\u001b[1;33m\u001b[0m\u001b[1;33m\u001b[0m\u001b[0m\n\u001b[0;32m    260\u001b[0m                     \u001b[0mmsg\u001b[0m \u001b[1;33m=\u001b[0m \u001b[1;33m{\u001b[0m\u001b[1;34m'content'\u001b[0m\u001b[1;33m:\u001b[0m\u001b[1;33m{\u001b[0m\u001b[1;34m'data'\u001b[0m\u001b[1;33m:\u001b[0m\u001b[1;33m[\u001b[0m\u001b[0mm\u001b[0m\u001b[1;33m]\u001b[0m\u001b[1;33m}\u001b[0m\u001b[1;33m}\u001b[0m \u001b[1;31m# message format used by notebook\u001b[0m\u001b[1;33m\u001b[0m\u001b[1;33m\u001b[0m\u001b[0m\n\u001b[1;32m--> 261\u001b[1;33m                     \u001b[0mself\u001b[0m\u001b[1;33m.\u001b[0m\u001b[0m_sender\u001b[0m\u001b[1;33m(\u001b[0m\u001b[0mmsg\u001b[0m\u001b[1;33m)\u001b[0m\u001b[1;33m\u001b[0m\u001b[1;33m\u001b[0m\u001b[0m\n\u001b[0m\u001b[0;32m    262\u001b[0m \u001b[1;33m\u001b[0m\u001b[0m\n\u001b[0;32m    263\u001b[0m     \u001b[1;32mdef\u001b[0m \u001b[0m__call__\u001b[0m\u001b[1;33m(\u001b[0m\u001b[0mself\u001b[0m\u001b[1;33m,\u001b[0m \u001b[0mN\u001b[0m\u001b[1;33m)\u001b[0m\u001b[1;33m:\u001b[0m \u001b[1;31m# rate(N) calls this function\u001b[0m\u001b[1;33m\u001b[0m\u001b[1;33m\u001b[0m\u001b[0m\n",
      "\u001b[1;32mc:\\users\\yvng dek\\appdata\\local\\programs\\python\\python38-32\\lib\\site-packages\\vpython\\rate_control.py\u001b[0m in \u001b[0;36mmessage_sender\u001b[1;34m(msg)\u001b[0m\n\u001b[0;32m    234\u001b[0m     \u001b[1;32mfrom\u001b[0m \u001b[1;33m.\u001b[0m\u001b[0mvpython\u001b[0m \u001b[1;32mimport\u001b[0m \u001b[0mbaseObj\u001b[0m\u001b[1;33m\u001b[0m\u001b[1;33m\u001b[0m\u001b[0m\n\u001b[0;32m    235\u001b[0m     \u001b[1;32mdef\u001b[0m \u001b[0mmessage_sender\u001b[0m\u001b[1;33m(\u001b[0m\u001b[0mmsg\u001b[0m\u001b[1;33m)\u001b[0m\u001b[1;33m:\u001b[0m\u001b[1;33m\u001b[0m\u001b[1;33m\u001b[0m\u001b[0m\n\u001b[1;32m--> 236\u001b[1;33m         \u001b[0mbaseObj\u001b[0m\u001b[1;33m.\u001b[0m\u001b[0mglow\u001b[0m\u001b[1;33m.\u001b[0m\u001b[0mhandle_msg\u001b[0m\u001b[1;33m(\u001b[0m\u001b[0mmsg\u001b[0m\u001b[1;33m)\u001b[0m\u001b[1;33m\u001b[0m\u001b[1;33m\u001b[0m\u001b[0m\n\u001b[0m\u001b[0;32m    237\u001b[0m     \u001b[1;32mreturn\u001b[0m \u001b[0mmessage_sender\u001b[0m\u001b[1;33m\u001b[0m\u001b[1;33m\u001b[0m\u001b[0m\n\u001b[0;32m    238\u001b[0m \u001b[1;33m\u001b[0m\u001b[0m\n",
      "\u001b[1;32mc:\\users\\yvng dek\\appdata\\local\\programs\\python\\python38-32\\lib\\site-packages\\vpython\\vpython.py\u001b[0m in \u001b[0;36mhandle_msg\u001b[1;34m(self, msg)\u001b[0m\n\u001b[0;32m    393\u001b[0m                     \u001b[0mcvs\u001b[0m\u001b[1;33m.\u001b[0m\u001b[0mhandle_event\u001b[0m\u001b[1;33m(\u001b[0m\u001b[0mevt\u001b[0m\u001b[1;33m)\u001b[0m\u001b[1;33m\u001b[0m\u001b[1;33m\u001b[0m\u001b[0m\n\u001b[0;32m    394\u001b[0m             \u001b[1;32mif\u001b[0m \u001b[0m_isnotebook\u001b[0m\u001b[1;33m:\u001b[0m\u001b[1;33m\u001b[0m\u001b[1;33m\u001b[0m\u001b[0m\n\u001b[1;32m--> 395\u001b[1;33m                 \u001b[0mbaseObj\u001b[0m\u001b[1;33m.\u001b[0m\u001b[0mtrigger\u001b[0m\u001b[1;33m(\u001b[0m\u001b[1;33m)\u001b[0m\u001b[1;33m\u001b[0m\u001b[1;33m\u001b[0m\u001b[0m\n\u001b[0m\u001b[0;32m    396\u001b[0m \u001b[1;33m\u001b[0m\u001b[0m\n\u001b[0;32m    397\u001b[0m     \u001b[1;32mdef\u001b[0m \u001b[0mhandle_close\u001b[0m\u001b[1;33m(\u001b[0m\u001b[0mself\u001b[0m\u001b[1;33m,\u001b[0m \u001b[0mdata\u001b[0m\u001b[1;33m)\u001b[0m\u001b[1;33m:\u001b[0m\u001b[1;33m\u001b[0m\u001b[1;33m\u001b[0m\u001b[0m\n",
      "\u001b[1;32mc:\\users\\yvng dek\\appdata\\local\\programs\\python\\python38-32\\lib\\site-packages\\vpython\\vpython.py\u001b[0m in \u001b[0;36mtrigger\u001b[1;34m(cls)\u001b[0m\n\u001b[0;32m    302\u001b[0m                     \u001b[0mbaseObj\u001b[0m\u001b[1;33m.\u001b[0m\u001b[0mupdates\u001b[0m\u001b[1;33m[\u001b[0m\u001b[1;34m'attrs'\u001b[0m\u001b[1;33m]\u001b[0m\u001b[1;33m[\u001b[0m\u001b[0midx\u001b[0m\u001b[1;33m]\u001b[0m \u001b[1;33m=\u001b[0m \u001b[1;33m{\u001b[0m\u001b[0mattr\u001b[0m\u001b[1;33m:\u001b[0m\u001b[0mval\u001b[0m\u001b[1;33m}\u001b[0m\u001b[1;33m\u001b[0m\u001b[1;33m\u001b[0m\u001b[0m\n\u001b[0;32m    303\u001b[0m             \u001b[0mobjdata\u001b[0m \u001b[1;33m=\u001b[0m \u001b[0mcls\u001b[0m\u001b[1;33m.\u001b[0m\u001b[0mpackage\u001b[0m\u001b[1;33m(\u001b[0m\u001b[0mbaseObj\u001b[0m\u001b[1;33m.\u001b[0m\u001b[0mupdates\u001b[0m\u001b[1;33m)\u001b[0m\u001b[1;33m\u001b[0m\u001b[1;33m\u001b[0m\u001b[0m\n\u001b[1;32m--> 304\u001b[1;33m         \u001b[0msender\u001b[0m\u001b[1;33m(\u001b[0m\u001b[0mobjdata\u001b[0m\u001b[1;33m)\u001b[0m\u001b[1;33m\u001b[0m\u001b[1;33m\u001b[0m\u001b[0m\n\u001b[0m\u001b[0;32m    305\u001b[0m         \u001b[0mcls\u001b[0m\u001b[1;33m.\u001b[0m\u001b[0minitialize\u001b[0m\u001b[1;33m(\u001b[0m\u001b[1;33m)\u001b[0m\u001b[1;33m\u001b[0m\u001b[1;33m\u001b[0m\u001b[0m\n\u001b[0;32m    306\u001b[0m         \u001b[0mbaseObj\u001b[0m\u001b[1;33m.\u001b[0m\u001b[0msent\u001b[0m \u001b[1;33m=\u001b[0m \u001b[1;32mTrue\u001b[0m\u001b[1;33m\u001b[0m\u001b[1;33m\u001b[0m\u001b[0m\n",
      "\u001b[1;32mc:\\users\\yvng dek\\appdata\\local\\programs\\python\\python38-32\\lib\\site-packages\\ipykernel\\comm\\comm.py\u001b[0m in \u001b[0;36msend\u001b[1;34m(self, data, metadata, buffers)\u001b[0m\n\u001b[0;32m    120\u001b[0m     \u001b[1;32mdef\u001b[0m \u001b[0msend\u001b[0m\u001b[1;33m(\u001b[0m\u001b[0mself\u001b[0m\u001b[1;33m,\u001b[0m \u001b[0mdata\u001b[0m\u001b[1;33m=\u001b[0m\u001b[1;32mNone\u001b[0m\u001b[1;33m,\u001b[0m \u001b[0mmetadata\u001b[0m\u001b[1;33m=\u001b[0m\u001b[1;32mNone\u001b[0m\u001b[1;33m,\u001b[0m \u001b[0mbuffers\u001b[0m\u001b[1;33m=\u001b[0m\u001b[1;32mNone\u001b[0m\u001b[1;33m)\u001b[0m\u001b[1;33m:\u001b[0m\u001b[1;33m\u001b[0m\u001b[1;33m\u001b[0m\u001b[0m\n\u001b[0;32m    121\u001b[0m         \u001b[1;34m\"\"\"Send a message to the frontend-side version of this comm\"\"\"\u001b[0m\u001b[1;33m\u001b[0m\u001b[1;33m\u001b[0m\u001b[0m\n\u001b[1;32m--> 122\u001b[1;33m         self._publish_msg('comm_msg',\n\u001b[0m\u001b[0;32m    123\u001b[0m             \u001b[0mdata\u001b[0m\u001b[1;33m=\u001b[0m\u001b[0mdata\u001b[0m\u001b[1;33m,\u001b[0m \u001b[0mmetadata\u001b[0m\u001b[1;33m=\u001b[0m\u001b[0mmetadata\u001b[0m\u001b[1;33m,\u001b[0m \u001b[0mbuffers\u001b[0m\u001b[1;33m=\u001b[0m\u001b[0mbuffers\u001b[0m\u001b[1;33m,\u001b[0m\u001b[1;33m\u001b[0m\u001b[1;33m\u001b[0m\u001b[0m\n\u001b[0;32m    124\u001b[0m         )\n",
      "\u001b[1;32mc:\\users\\yvng dek\\appdata\\local\\programs\\python\\python38-32\\lib\\site-packages\\ipykernel\\comm\\comm.py\u001b[0m in \u001b[0;36m_publish_msg\u001b[1;34m(self, msg_type, data, metadata, buffers, **keys)\u001b[0m\n\u001b[0;32m     64\u001b[0m         \u001b[0mmetadata\u001b[0m \u001b[1;33m=\u001b[0m \u001b[1;33m{\u001b[0m\u001b[1;33m}\u001b[0m \u001b[1;32mif\u001b[0m \u001b[0mmetadata\u001b[0m \u001b[1;32mis\u001b[0m \u001b[1;32mNone\u001b[0m \u001b[1;32melse\u001b[0m \u001b[0mmetadata\u001b[0m\u001b[1;33m\u001b[0m\u001b[1;33m\u001b[0m\u001b[0m\n\u001b[0;32m     65\u001b[0m         \u001b[0mcontent\u001b[0m \u001b[1;33m=\u001b[0m \u001b[0mjson_clean\u001b[0m\u001b[1;33m(\u001b[0m\u001b[0mdict\u001b[0m\u001b[1;33m(\u001b[0m\u001b[0mdata\u001b[0m\u001b[1;33m=\u001b[0m\u001b[0mdata\u001b[0m\u001b[1;33m,\u001b[0m \u001b[0mcomm_id\u001b[0m\u001b[1;33m=\u001b[0m\u001b[0mself\u001b[0m\u001b[1;33m.\u001b[0m\u001b[0mcomm_id\u001b[0m\u001b[1;33m,\u001b[0m \u001b[1;33m**\u001b[0m\u001b[0mkeys\u001b[0m\u001b[1;33m)\u001b[0m\u001b[1;33m)\u001b[0m\u001b[1;33m\u001b[0m\u001b[1;33m\u001b[0m\u001b[0m\n\u001b[1;32m---> 66\u001b[1;33m         self.kernel.session.send(self.kernel.iopub_socket, msg_type,\n\u001b[0m\u001b[0;32m     67\u001b[0m             \u001b[0mcontent\u001b[0m\u001b[1;33m,\u001b[0m\u001b[1;33m\u001b[0m\u001b[1;33m\u001b[0m\u001b[0m\n\u001b[0;32m     68\u001b[0m             \u001b[0mmetadata\u001b[0m\u001b[1;33m=\u001b[0m\u001b[0mjson_clean\u001b[0m\u001b[1;33m(\u001b[0m\u001b[0mmetadata\u001b[0m\u001b[1;33m)\u001b[0m\u001b[1;33m,\u001b[0m\u001b[1;33m\u001b[0m\u001b[1;33m\u001b[0m\u001b[0m\n",
      "\u001b[1;32mc:\\users\\yvng dek\\appdata\\local\\programs\\python\\python38-32\\lib\\site-packages\\jupyter_client\\session.py\u001b[0m in \u001b[0;36msend\u001b[1;34m(self, stream, msg_or_type, content, parent, ident, buffers, track, header, metadata)\u001b[0m\n\u001b[0;32m    719\u001b[0m             \u001b[0mbuffers\u001b[0m \u001b[1;33m=\u001b[0m \u001b[0mbuffers\u001b[0m \u001b[1;32mor\u001b[0m \u001b[0mmsg\u001b[0m\u001b[1;33m.\u001b[0m\u001b[0mget\u001b[0m\u001b[1;33m(\u001b[0m\u001b[1;34m'buffers'\u001b[0m\u001b[1;33m,\u001b[0m \u001b[1;33m[\u001b[0m\u001b[1;33m]\u001b[0m\u001b[1;33m)\u001b[0m\u001b[1;33m\u001b[0m\u001b[1;33m\u001b[0m\u001b[0m\n\u001b[0;32m    720\u001b[0m         \u001b[1;32melse\u001b[0m\u001b[1;33m:\u001b[0m\u001b[1;33m\u001b[0m\u001b[1;33m\u001b[0m\u001b[0m\n\u001b[1;32m--> 721\u001b[1;33m             msg = self.msg(msg_or_type, content=content, parent=parent,\n\u001b[0m\u001b[0;32m    722\u001b[0m                            header=header, metadata=metadata)\n\u001b[0;32m    723\u001b[0m         \u001b[1;32mif\u001b[0m \u001b[0mself\u001b[0m\u001b[1;33m.\u001b[0m\u001b[0mcheck_pid\u001b[0m \u001b[1;32mand\u001b[0m \u001b[1;32mnot\u001b[0m \u001b[0mos\u001b[0m\u001b[1;33m.\u001b[0m\u001b[0mgetpid\u001b[0m\u001b[1;33m(\u001b[0m\u001b[1;33m)\u001b[0m \u001b[1;33m==\u001b[0m \u001b[0mself\u001b[0m\u001b[1;33m.\u001b[0m\u001b[0mpid\u001b[0m\u001b[1;33m:\u001b[0m\u001b[1;33m\u001b[0m\u001b[1;33m\u001b[0m\u001b[0m\n",
      "\u001b[1;32mc:\\users\\yvng dek\\appdata\\local\\programs\\python\\python38-32\\lib\\site-packages\\jupyter_client\\session.py\u001b[0m in \u001b[0;36mmsg\u001b[1;34m(self, msg_type, content, parent, header, metadata)\u001b[0m\n\u001b[0;32m    579\u001b[0m         \"\"\"\n\u001b[0;32m    580\u001b[0m         \u001b[0mmsg\u001b[0m \u001b[1;33m=\u001b[0m \u001b[1;33m{\u001b[0m\u001b[1;33m}\u001b[0m\u001b[1;33m\u001b[0m\u001b[1;33m\u001b[0m\u001b[0m\n\u001b[1;32m--> 581\u001b[1;33m         \u001b[0mheader\u001b[0m \u001b[1;33m=\u001b[0m \u001b[0mself\u001b[0m\u001b[1;33m.\u001b[0m\u001b[0mmsg_header\u001b[0m\u001b[1;33m(\u001b[0m\u001b[0mmsg_type\u001b[0m\u001b[1;33m)\u001b[0m \u001b[1;32mif\u001b[0m \u001b[0mheader\u001b[0m \u001b[1;32mis\u001b[0m \u001b[1;32mNone\u001b[0m \u001b[1;32melse\u001b[0m \u001b[0mheader\u001b[0m\u001b[1;33m\u001b[0m\u001b[1;33m\u001b[0m\u001b[0m\n\u001b[0m\u001b[0;32m    582\u001b[0m         \u001b[0mmsg\u001b[0m\u001b[1;33m[\u001b[0m\u001b[1;34m'header'\u001b[0m\u001b[1;33m]\u001b[0m \u001b[1;33m=\u001b[0m \u001b[0mheader\u001b[0m\u001b[1;33m\u001b[0m\u001b[1;33m\u001b[0m\u001b[0m\n\u001b[0;32m    583\u001b[0m         \u001b[0mmsg\u001b[0m\u001b[1;33m[\u001b[0m\u001b[1;34m'msg_id'\u001b[0m\u001b[1;33m]\u001b[0m \u001b[1;33m=\u001b[0m \u001b[0mheader\u001b[0m\u001b[1;33m[\u001b[0m\u001b[1;34m'msg_id'\u001b[0m\u001b[1;33m]\u001b[0m\u001b[1;33m\u001b[0m\u001b[1;33m\u001b[0m\u001b[0m\n",
      "\u001b[1;32mc:\\users\\yvng dek\\appdata\\local\\programs\\python\\python38-32\\lib\\site-packages\\jupyter_client\\session.py\u001b[0m in \u001b[0;36mmsg_header\u001b[1;34m(self, msg_type)\u001b[0m\n\u001b[0;32m    569\u001b[0m \u001b[1;33m\u001b[0m\u001b[0m\n\u001b[0;32m    570\u001b[0m     \u001b[1;32mdef\u001b[0m \u001b[0mmsg_header\u001b[0m\u001b[1;33m(\u001b[0m\u001b[0mself\u001b[0m\u001b[1;33m,\u001b[0m \u001b[0mmsg_type\u001b[0m\u001b[1;33m)\u001b[0m\u001b[1;33m:\u001b[0m\u001b[1;33m\u001b[0m\u001b[1;33m\u001b[0m\u001b[0m\n\u001b[1;32m--> 571\u001b[1;33m         \u001b[1;32mreturn\u001b[0m \u001b[0mmsg_header\u001b[0m\u001b[1;33m(\u001b[0m\u001b[0mself\u001b[0m\u001b[1;33m.\u001b[0m\u001b[0mmsg_id\u001b[0m\u001b[1;33m,\u001b[0m \u001b[0mmsg_type\u001b[0m\u001b[1;33m,\u001b[0m \u001b[0mself\u001b[0m\u001b[1;33m.\u001b[0m\u001b[0musername\u001b[0m\u001b[1;33m,\u001b[0m \u001b[0mself\u001b[0m\u001b[1;33m.\u001b[0m\u001b[0msession\u001b[0m\u001b[1;33m)\u001b[0m\u001b[1;33m\u001b[0m\u001b[1;33m\u001b[0m\u001b[0m\n\u001b[0m\u001b[0;32m    572\u001b[0m \u001b[1;33m\u001b[0m\u001b[0m\n\u001b[0;32m    573\u001b[0m     \u001b[1;32mdef\u001b[0m \u001b[0mmsg\u001b[0m\u001b[1;33m(\u001b[0m\u001b[0mself\u001b[0m\u001b[1;33m,\u001b[0m \u001b[0mmsg_type\u001b[0m\u001b[1;33m,\u001b[0m \u001b[0mcontent\u001b[0m\u001b[1;33m=\u001b[0m\u001b[1;32mNone\u001b[0m\u001b[1;33m,\u001b[0m \u001b[0mparent\u001b[0m\u001b[1;33m=\u001b[0m\u001b[1;32mNone\u001b[0m\u001b[1;33m,\u001b[0m \u001b[0mheader\u001b[0m\u001b[1;33m=\u001b[0m\u001b[1;32mNone\u001b[0m\u001b[1;33m,\u001b[0m \u001b[0mmetadata\u001b[0m\u001b[1;33m=\u001b[0m\u001b[1;32mNone\u001b[0m\u001b[1;33m)\u001b[0m\u001b[1;33m:\u001b[0m\u001b[1;33m\u001b[0m\u001b[1;33m\u001b[0m\u001b[0m\n",
      "\u001b[1;32mc:\\users\\yvng dek\\appdata\\local\\programs\\python\\python38-32\\lib\\site-packages\\jupyter_client\\session.py\u001b[0m in \u001b[0;36mmsg_header\u001b[1;34m(msg_id, msg_type, username, session)\u001b[0m\n\u001b[0;32m    226\u001b[0m     \u001b[0mdate\u001b[0m \u001b[1;33m=\u001b[0m \u001b[0mutcnow\u001b[0m\u001b[1;33m(\u001b[0m\u001b[1;33m)\u001b[0m\u001b[1;33m\u001b[0m\u001b[1;33m\u001b[0m\u001b[0m\n\u001b[0;32m    227\u001b[0m     \u001b[0mversion\u001b[0m \u001b[1;33m=\u001b[0m \u001b[0mprotocol_version\u001b[0m\u001b[1;33m\u001b[0m\u001b[1;33m\u001b[0m\u001b[0m\n\u001b[1;32m--> 228\u001b[1;33m     \u001b[1;32mreturn\u001b[0m \u001b[0mlocals\u001b[0m\u001b[1;33m(\u001b[0m\u001b[1;33m)\u001b[0m\u001b[1;33m\u001b[0m\u001b[1;33m\u001b[0m\u001b[0m\n\u001b[0m\u001b[0;32m    229\u001b[0m \u001b[1;33m\u001b[0m\u001b[0m\n\u001b[0;32m    230\u001b[0m \u001b[1;32mdef\u001b[0m \u001b[0mextract_header\u001b[0m\u001b[1;33m(\u001b[0m\u001b[0mmsg_or_header\u001b[0m\u001b[1;33m)\u001b[0m\u001b[1;33m:\u001b[0m\u001b[1;33m\u001b[0m\u001b[1;33m\u001b[0m\u001b[0m\n",
      "\u001b[1;31mKeyboardInterrupt\u001b[0m: "
     ]
    }
   ],
   "source": [
    "# Scene\n",
    "scene = canvas(background=vec(0, 30, 10)/255, autoscale=False)\n",
    "\n",
    "# Making target\n",
    "b=Target(vec(0,0,-39), color=vec(1,1,0))\n",
    "\n",
    "# Setting up the coils\n",
    "topcoil=box(pos=vec(0,10,0), width=10, length=10, height=1/16, axis=vec(1,0,0))\n",
    "botcoil=box(pos=vec(0,-10,0), width=10, length=10, height=1/16, axis=vec(1,0,0))\n",
    "vertcoils=compound([topcoil,botcoil])\n",
    "leftcoil=box(pos=vec(-10,0,0), width=10, length=10, height=1/16, axis=vec(0,1,0))\n",
    "rightcoil=box(pos=vec(10,0,0), width=10, length=10, height=1/16, axis=vec(0,1,0))\n",
    "horzcoils=compound([leftcoil,rightcoil])\n",
    "\n",
    "#Making the electron\n",
    "KNIFE = False\n",
    "if(KNIFE == True):\n",
    "    e=Knife(vec(0,0,topcoil.width/1.5))\n",
    "else:\n",
    "    e=sphere(pos=vec(0,0,0), radius=0.5, color=color.blue )\n",
    "\n",
    "# Backdrop\n",
    "screen=box(pos=vec(0,0,-40), color=vec(0.2,0.2,0.2), height=40, width=40,length=1/16, axis=vec(0,0,1))\n",
    "\n",
    "# Moving Camera\n",
    "scene.camera.pos=e.pos+vec(0,0,15)\n",
    "scene.camera.range=1\n",
    "# scene.camera.forward=20\n",
    "\n",
    "# Constants\n",
    "emass = 1\n",
    "q = 1\n",
    "evel = vec(0,0,0)\n",
    "theta = random.random() * 2 * math.pi\n",
    "bvel = vec(math.cos(theta), math.sin(theta),0) * 3\n",
    "vel = 10\n",
    "fired = False\n",
    "BMAX = emass*vel*screen.width/(2*q*(topcoil.length)*abs(screen.pos.z)) # Scaling based on velocity given to electron, so that it is bounded in the backdrop\n",
    "TP = 0.5\n",
    "LP = 0.5\n",
    "\n",
    "# Setting up Magnetic fields\n",
    "BTOP = vec(0,-1,0)*TP*BMAX\n",
    "BBOT = vec(0,1,0)*(1-TP)*BMAX\n",
    "BLEFT = vec(1,0,0)*LP*BMAX\n",
    "BRIGHT = vec(-1,0,0)*(1-TP)*BMAX\n",
    "# Visuals for magnetic fields\n",
    "tarrow=arrow(pos=topcoil.pos, axis=(BTOP/BMAX)*10, color=vec(1,0,1),opacity=0.5)\n",
    "barrow=arrow(pos=botcoil.pos, axis=(BBOT/BMAX)*10, color=vec(1,0,1),opacity=0.5)\n",
    "larrow=arrow(pos=leftcoil.pos, axis=(BLEFT/BMAX)*10, color=vec(1,0,1),opacity=0.5)\n",
    "rarrow=arrow(pos=rightcoil.pos, axis=(BRIGHT/BMAX)*10, color=vec(1,0,1),opacity=0.5)\n",
    "\n",
    "\n",
    "INC = 0.01\n",
    "#Loop\n",
    "dt = 1e-2 # Time interval\n",
    "while True:\n",
    "    rate(1/dt)\n",
    "\n",
    "    #Moving target\n",
    "    b.pos += bvel *dt\n",
    "    if abs(b.pos.y) >= screen.height/2:\n",
    "        bvel.y = -bvel.y\n",
    "    if abs(b.pos.x) >= screen.width/2:\n",
    "        bvel.x = -bvel.x\n",
    "\n",
    "    #Resetting electron\n",
    "    if(e.pos.z < screen.pos.z or abs(e.pos.y) > screen.height/2 or abs(e.pos.x) > screen.width/2):\n",
    "        e.pos = vec(0,0,topcoil.width/1.5)\n",
    "        evel = vec(0,0,0)\n",
    "        fired=False\n",
    "        \n",
    "\n",
    "    #Keyboard inputs\n",
    "    k = keysdown() # a list of keys that are down\n",
    "    if 'left' in k:\n",
    "        if LP > 0:\n",
    "            LP -= INC\n",
    "            # print(LP)\n",
    "    if 'right' in k:\n",
    "        if LP < 1:\n",
    "            LP += INC\n",
    "            # print(LP)\n",
    "    if 'down' in k:\n",
    "        if TP < 1:\n",
    "            TP += INC\n",
    "            # print(TP)\n",
    "    if 'up' in k:\n",
    "        if TP > 0:\n",
    "            TP -= INC\n",
    "            # print(TP)\n",
    "    if ' ' in k and not fired:\n",
    "        # print(\"Fire\")\n",
    "        fired = True\n",
    "        evel = vec(0,0,-1)*vel\n",
    "\n",
    "\n",
    "    ep = evel*emass#electron momentum\n",
    "\n",
    "    #Magnetic fields\n",
    "    BTOP = vec(0,-1,0)*TP*BMAX\n",
    "    BBOT = vec(0,1,0)*(1-TP)*BMAX\n",
    "    BLEFT = vec(1,0,0)*LP*BMAX\n",
    "    BRIGHT = vec(-1,0,0)*(1-LP)*BMAX\n",
    "    tarrow.axis=(BTOP/BMAX)*10\n",
    "    barrow.axis=(BBOT/BMAX)*10\n",
    "    larrow.axis=(BLEFT/BMAX)*10\n",
    "    rarrow.axis=(BRIGHT/BMAX)*10\n",
    "\n",
    "    #Total Magnetic field\n",
    "    BNET = BTOP+BBOT+BLEFT+BRIGHT\n",
    "\n",
    "    # Magnetic force on electron\n",
    "    FMag = vec(0,0,0) # If outside coils force = 0\n",
    "    if abs(topcoil.pos.z-e.pos.z) < (topcoil.width/2): # If between coils then force\n",
    "        FMag = q*cross(evel, BNET)\n",
    "\n",
    "    #Updating electron pos\n",
    "    ep = ep+FMag*dt #calculating momentum\n",
    "    evel = ep/emass #calculating velocity\n",
    "    e.pos += evel*dt #position\n",
    "\n",
    "    #Collisions with target\n",
    "    if mag((e.pos+vec(0,0,-e.radius)-b.pos))<b.radius*2/3:\n",
    "        b.visible=False\n",
    "        a=b\n",
    "        b=Dead(b.pos, b.c)\n",
    "        del a\n",
    "        break\n",
    "    #print(e.pos)\n"
   ]
  },
  {
   "cell_type": "markdown",
   "metadata": {},
   "source": [
    "## Future Plans\n",
    "This model can be taken and improved in a lot of ways such as:\n",
    "1. Scale values down to an actual electron (It was scaled up to work easier with VPython)\n",
    "\n",
    "2. A scan system could be added in to further show how CRT monitors work\n",
    "\n",
    "3. To continue with the game concept, you could add in more targets, change the movement of them, and even add in a Fmag vector to help visualize where the electron would go as a result of the coils since it can be confusing without knowing the right hand rule.\n",
    "\n",
    "\n",
    "I think, given the time, a great improvement to this model would be to add in scanning, and display an image on the screen in the back as CRT TVs are able to.\n"
   ]
  },
  {
   "cell_type": "markdown",
   "metadata": {},
   "source": [
    "## References\n",
    "https://circuitglobe.com/cathode-ray-tube-crt.html\n",
    "\n",
    "https://computer.howstuffworks.com/monitor7.htm\n",
    "\n",
    "https://nationalmaglab.org/education/magnet-academy/watch-play/interactive/electromagnetic-deflection-in-a-cathode-ray-tube-ii"
   ]
  },
  {
   "cell_type": "code",
   "execution_count": null,
   "metadata": {},
   "outputs": [],
   "source": []
  }
 ],
 "metadata": {
  "kernelspec": {
   "display_name": "Python 3",
   "language": "python",
   "name": "python3"
  },
  "language_info": {
   "codemirror_mode": {
    "name": "ipython",
    "version": 3
   },
   "file_extension": ".py",
   "mimetype": "text/x-python",
   "name": "python",
   "nbconvert_exporter": "python",
   "pygments_lexer": "ipython3",
   "version": "3.8.2"
  }
 },
 "nbformat": 4,
 "nbformat_minor": 4
}
